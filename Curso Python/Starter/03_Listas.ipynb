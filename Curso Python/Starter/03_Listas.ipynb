{
 "cells": [
  {
   "cell_type": "markdown",
   "id": "eff541f2-ed62-4032-9b98-5099b0655c19",
   "metadata": {},
   "source": [
    "### Listas"
   ]
  },
  {
   "cell_type": "code",
   "execution_count": 1,
   "id": "5b33adfd-37dd-4fc2-9b9e-f7293c015c68",
   "metadata": {
    "tags": []
   },
   "outputs": [],
   "source": [
    "minha_lista=[1,2,3]"
   ]
  },
  {
   "cell_type": "code",
   "execution_count": 2,
   "id": "a374f571-6c37-42c9-8630-eb40482d066d",
   "metadata": {
    "tags": []
   },
   "outputs": [
    {
     "data": {
      "text/plain": [
       "[1, 2, 3]"
      ]
     },
     "execution_count": 2,
     "metadata": {},
     "output_type": "execute_result"
    }
   ],
   "source": [
    "minha_lista"
   ]
  },
  {
   "cell_type": "code",
   "execution_count": 3,
   "id": "86c7c0dc-639c-4d95-9ede-38208a89f49e",
   "metadata": {
    "tags": []
   },
   "outputs": [
    {
     "data": {
      "text/plain": [
       "list"
      ]
     },
     "execution_count": 3,
     "metadata": {},
     "output_type": "execute_result"
    }
   ],
   "source": [
    "type(minha_lista)"
   ]
  },
  {
   "cell_type": "code",
   "execution_count": 4,
   "id": "e3c6da02-ce33-46a2-8441-86ea3d6d5ff4",
   "metadata": {
    "tags": []
   },
   "outputs": [
    {
     "data": {
      "text/plain": [
       "[2]"
      ]
     },
     "execution_count": 4,
     "metadata": {},
     "output_type": "execute_result"
    }
   ],
   "source": [
    "minha_lista[1:-1]"
   ]
  },
  {
   "cell_type": "code",
   "execution_count": 5,
   "id": "7315f39f-c630-4b2f-a438-3a09c11c5a40",
   "metadata": {
    "tags": []
   },
   "outputs": [],
   "source": [
    "minha_lista=[1,2,\"Hello\",[1,2,3]]"
   ]
  },
  {
   "cell_type": "code",
   "execution_count": 6,
   "id": "5519c8e3-bfa9-46b8-805a-f747c7eb3ce2",
   "metadata": {
    "tags": []
   },
   "outputs": [
    {
     "data": {
      "text/plain": [
       "[1, 2, 3]"
      ]
     },
     "execution_count": 6,
     "metadata": {},
     "output_type": "execute_result"
    }
   ],
   "source": [
    "minha_lista[3]"
   ]
  },
  {
   "cell_type": "code",
   "execution_count": 7,
   "id": "c848bd13-a074-445a-aeb4-c5b3384a6a09",
   "metadata": {
    "tags": []
   },
   "outputs": [
    {
     "data": {
      "text/plain": [
       "2"
      ]
     },
     "execution_count": 7,
     "metadata": {},
     "output_type": "execute_result"
    }
   ],
   "source": [
    "minha_lista[3][1]"
   ]
  },
  {
   "cell_type": "code",
   "execution_count": 8,
   "id": "0b5da3a4-dc07-44fe-bfdd-9c6831416307",
   "metadata": {
    "tags": []
   },
   "outputs": [
    {
     "data": {
      "text/plain": [
       "'HELLO'"
      ]
     },
     "execution_count": 8,
     "metadata": {},
     "output_type": "execute_result"
    }
   ],
   "source": [
    "minha_lista[2].upper()"
   ]
  },
  {
   "cell_type": "markdown",
   "id": "d871a4b6-2fbf-4dc4-8d96-c3d382a30180",
   "metadata": {},
   "source": [
    "### Métodos básicos das Listas"
   ]
  },
  {
   "cell_type": "code",
   "execution_count": 9,
   "id": "1e773263-1628-40a1-80d7-adfc33a41874",
   "metadata": {
    "tags": []
   },
   "outputs": [],
   "source": [
    "l=[1,2,3]"
   ]
  },
  {
   "cell_type": "code",
   "execution_count": 10,
   "id": "54aa8dac-8aad-412f-8353-54aaf7e545bd",
   "metadata": {
    "tags": []
   },
   "outputs": [],
   "source": [
    "l.append(4)"
   ]
  },
  {
   "cell_type": "code",
   "execution_count": 11,
   "id": "cbec697d-3e3c-457e-b9c8-0b27ef2256bc",
   "metadata": {
    "tags": []
   },
   "outputs": [
    {
     "data": {
      "text/plain": [
       "[1, 2, 3, 4]"
      ]
     },
     "execution_count": 11,
     "metadata": {},
     "output_type": "execute_result"
    }
   ],
   "source": [
    "l"
   ]
  },
  {
   "cell_type": "code",
   "execution_count": 12,
   "id": "bca49180-4bf2-469d-b1bc-76a1ea7231bb",
   "metadata": {
    "tags": []
   },
   "outputs": [
    {
     "data": {
      "text/plain": [
       "4"
      ]
     },
     "execution_count": 12,
     "metadata": {},
     "output_type": "execute_result"
    }
   ],
   "source": [
    "l.pop()"
   ]
  },
  {
   "cell_type": "code",
   "execution_count": 13,
   "id": "b3c70ca0-0625-4969-bb26-0377beb4a9a7",
   "metadata": {
    "tags": []
   },
   "outputs": [
    {
     "data": {
      "text/plain": [
       "[1, 2, 3]"
      ]
     },
     "execution_count": 13,
     "metadata": {},
     "output_type": "execute_result"
    }
   ],
   "source": [
    "l"
   ]
  },
  {
   "cell_type": "code",
   "execution_count": 14,
   "id": "ecb47a52-5779-45fa-90de-9971dadff8b4",
   "metadata": {
    "tags": []
   },
   "outputs": [],
   "source": [
    "new_lista=[\"a\",\"b\",\"c\",\"d\"]"
   ]
  },
  {
   "cell_type": "code",
   "execution_count": 15,
   "id": "08652282-1e91-46ae-9837-6f3ef6cb22e6",
   "metadata": {
    "tags": []
   },
   "outputs": [],
   "source": [
    "new_lista.sort()"
   ]
  },
  {
   "cell_type": "code",
   "execution_count": 16,
   "id": "3238e0cb-30cb-4f0a-ae8b-2e1009baf8ee",
   "metadata": {
    "tags": []
   },
   "outputs": [
    {
     "data": {
      "text/plain": [
       "['a', 'b', 'c', 'd']"
      ]
     },
     "execution_count": 16,
     "metadata": {},
     "output_type": "execute_result"
    }
   ],
   "source": [
    "new_lista"
   ]
  },
  {
   "cell_type": "code",
   "execution_count": 17,
   "id": "9f30af90-b8a9-4bf0-b996-319b1fe3f85c",
   "metadata": {
    "tags": []
   },
   "outputs": [],
   "source": [
    "new_lista.reverse()"
   ]
  },
  {
   "cell_type": "code",
   "execution_count": 18,
   "id": "1c3163a8-2a9e-45f6-bbf1-d28f07a1a0f4",
   "metadata": {
    "tags": []
   },
   "outputs": [
    {
     "data": {
      "text/plain": [
       "['d', 'c', 'b', 'a']"
      ]
     },
     "execution_count": 18,
     "metadata": {},
     "output_type": "execute_result"
    }
   ],
   "source": [
    "new_lista"
   ]
  },
  {
   "cell_type": "code",
   "execution_count": 19,
   "id": "19703859-5f64-4bb8-8887-d5819df492ba",
   "metadata": {
    "tags": []
   },
   "outputs": [],
   "source": [
    "l1=[1,2,3]\n",
    "l2=[4,5,6]\n",
    "l3=[7,8,9]"
   ]
  },
  {
   "cell_type": "code",
   "execution_count": 20,
   "id": "89199a97-2f7c-4ebb-9ca5-59aa0a26e24d",
   "metadata": {
    "tags": []
   },
   "outputs": [],
   "source": [
    "lista=[l1,l2,l3]"
   ]
  },
  {
   "cell_type": "code",
   "execution_count": 21,
   "id": "ed214c85-192e-416b-a848-fc31a8ab6c92",
   "metadata": {
    "tags": []
   },
   "outputs": [
    {
     "data": {
      "text/plain": [
       "[[1, 2, 3], [4, 5, 6], [7, 8, 9]]"
      ]
     },
     "execution_count": 21,
     "metadata": {},
     "output_type": "execute_result"
    }
   ],
   "source": [
    "lista"
   ]
  },
  {
   "cell_type": "code",
   "execution_count": 22,
   "id": "6653863e-b3e3-42d6-a3b7-193194c172f5",
   "metadata": {
    "tags": []
   },
   "outputs": [
    {
     "data": {
      "text/plain": [
       "[4, 5, 6]"
      ]
     },
     "execution_count": 22,
     "metadata": {},
     "output_type": "execute_result"
    }
   ],
   "source": [
    "lista[1]"
   ]
  },
  {
   "cell_type": "code",
   "execution_count": 23,
   "id": "31b4030a-17d9-4ac1-92f5-620adff9c82a",
   "metadata": {
    "tags": []
   },
   "outputs": [
    {
     "data": {
      "text/plain": [
       "5"
      ]
     },
     "execution_count": 23,
     "metadata": {},
     "output_type": "execute_result"
    }
   ],
   "source": [
    "lista[1][1]"
   ]
  },
  {
   "cell_type": "code",
   "execution_count": 26,
   "id": "ee8c9303-99b9-4253-8215-f771fd2a8e3f",
   "metadata": {
    "tags": []
   },
   "outputs": [],
   "source": [
    "minha_lista = [1,2,\"Maria\",\"João\",3, [1, 2, 3]]"
   ]
  },
  {
   "cell_type": "code",
   "execution_count": 28,
   "id": "386a813c-e9f3-42cf-b623-2b90559cc864",
   "metadata": {
    "tags": []
   },
   "outputs": [
    {
     "data": {
      "text/plain": [
       "[1, 2, 'Maria', 'João', 3, [1, 2, 3]]"
      ]
     },
     "execution_count": 28,
     "metadata": {},
     "output_type": "execute_result"
    }
   ],
   "source": [
    "minha_lista"
   ]
  },
  {
   "cell_type": "code",
   "execution_count": 29,
   "id": "75e33bbe-7e8b-483a-a730-eecfb71da4ba",
   "metadata": {
    "tags": []
   },
   "outputs": [
    {
     "data": {
      "text/plain": [
       "'João'"
      ]
     },
     "execution_count": 29,
     "metadata": {},
     "output_type": "execute_result"
    }
   ],
   "source": [
    "minha_lista[-3]"
   ]
  },
  {
   "cell_type": "code",
   "execution_count": 30,
   "id": "dd427acf-4a8a-4a49-8be3-f949a87ad49c",
   "metadata": {
    "tags": []
   },
   "outputs": [
    {
     "data": {
      "text/plain": [
       "[3, [1, 2, 3]]"
      ]
     },
     "execution_count": 30,
     "metadata": {},
     "output_type": "execute_result"
    }
   ],
   "source": [
    "minha_lista[4:]"
   ]
  },
  {
   "cell_type": "code",
   "execution_count": 31,
   "id": "9f91ba93-a80b-4375-932e-11ffb437e6ea",
   "metadata": {
    "tags": []
   },
   "outputs": [
    {
     "data": {
      "text/plain": [
       "[1, 2, 'Maria']"
      ]
     },
     "execution_count": 31,
     "metadata": {},
     "output_type": "execute_result"
    }
   ],
   "source": [
    "minha_lista[:3]"
   ]
  },
  {
   "cell_type": "code",
   "execution_count": 32,
   "id": "c7525bb1-f00a-4c92-b0d6-284484af4430",
   "metadata": {
    "tags": []
   },
   "outputs": [
    {
     "data": {
      "text/plain": [
       "[1, 2, 'Maria']"
      ]
     },
     "execution_count": 32,
     "metadata": {},
     "output_type": "execute_result"
    }
   ],
   "source": [
    "minha_lista[:3]"
   ]
  },
  {
   "cell_type": "code",
   "execution_count": 33,
   "id": "80ba8e38-651a-4a9b-9f85-8bfd73dab531",
   "metadata": {
    "tags": []
   },
   "outputs": [
    {
     "data": {
      "text/plain": [
       "['João', 3, [1, 2, 3]]"
      ]
     },
     "execution_count": 33,
     "metadata": {},
     "output_type": "execute_result"
    }
   ],
   "source": [
    "minha_lista[3:]"
   ]
  },
  {
   "cell_type": "code",
   "execution_count": 34,
   "id": "b6cb9dd0-4984-443a-a07f-d0dd726624c8",
   "metadata": {
    "tags": []
   },
   "outputs": [],
   "source": [
    "minha_lista.append(10)"
   ]
  },
  {
   "cell_type": "code",
   "execution_count": 35,
   "id": "5f594c94-9852-4d50-958e-e0c572771624",
   "metadata": {
    "tags": []
   },
   "outputs": [
    {
     "data": {
      "text/plain": [
       "[1, 2, 'Maria', 'João', 3, [1, 2, 3], 10]"
      ]
     },
     "execution_count": 35,
     "metadata": {},
     "output_type": "execute_result"
    }
   ],
   "source": [
    "minha_lista"
   ]
  },
  {
   "cell_type": "code",
   "execution_count": 36,
   "id": "f9860465-ea9e-43b2-9baf-6b033416f84d",
   "metadata": {
    "tags": []
   },
   "outputs": [
    {
     "data": {
      "text/plain": [
       "10"
      ]
     },
     "execution_count": 36,
     "metadata": {},
     "output_type": "execute_result"
    }
   ],
   "source": [
    "minha_lista.pop()"
   ]
  },
  {
   "cell_type": "code",
   "execution_count": 37,
   "id": "ffdee8ea-0f88-4085-80a7-1ef4d0e67c80",
   "metadata": {
    "tags": []
   },
   "outputs": [
    {
     "data": {
      "text/plain": [
       "[1, 2, 'Maria', 'João', 3, [1, 2, 3]]"
      ]
     },
     "execution_count": 37,
     "metadata": {},
     "output_type": "execute_result"
    }
   ],
   "source": [
    "minha_lista"
   ]
  }
 ],
 "metadata": {
  "kernelspec": {
   "display_name": "Python 3 (ipykernel)",
   "language": "python",
   "name": "python3"
  },
  "language_info": {
   "codemirror_mode": {
    "name": "ipython",
    "version": 3
   },
   "file_extension": ".py",
   "mimetype": "text/x-python",
   "name": "python",
   "nbconvert_exporter": "python",
   "pygments_lexer": "ipython3",
   "version": "3.11.5"
  }
 },
 "nbformat": 4,
 "nbformat_minor": 5
}
